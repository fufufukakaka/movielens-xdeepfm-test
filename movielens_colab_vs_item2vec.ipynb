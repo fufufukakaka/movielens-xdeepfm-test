{
 "cells": [
  {
   "cell_type": "code",
   "execution_count": 1,
   "metadata": {
    "ExecuteTime": {
     "end_time": "2019-03-13T05:10:56.446575Z",
     "start_time": "2019-03-13T05:10:53.997169Z"
    },
    "colab": {},
    "colab_type": "code",
    "id": "juiC1i89MzSB"
   },
   "outputs": [],
   "source": [
    "# In[ ]:\n",
    "import pandas as pd"
   ]
  },
  {
   "cell_type": "code",
   "execution_count": 2,
   "metadata": {
    "ExecuteTime": {
     "end_time": "2019-03-13T05:11:07.042113Z",
     "start_time": "2019-03-13T05:10:57.250882Z"
    },
    "colab": {},
    "colab_type": "code",
    "id": "e1i7NY_DNC5T"
   },
   "outputs": [],
   "source": [
    "scores_train = pd.read_csv(\n",
    "   'http://files.grouplens.org/datasets/movielens/ml-100k/ua.base', names=[\"uid\", \"mid\", \"rating\", \"timestamp\"], sep=\"\\t\")\n",
    "scores_test = pd.read_csv(\n",
    "   'http://files.grouplens.org/datasets/movielens/ml-100k/ua.test', names=[\"uid\", \"mid\", \"rating\", \"timestamp\"], sep=\"\\t\")"
   ]
  },
  {
   "cell_type": "code",
   "execution_count": 3,
   "metadata": {
    "ExecuteTime": {
     "end_time": "2019-03-13T05:11:18.368327Z",
     "start_time": "2019-03-13T05:11:11.682199Z"
    },
    "colab": {},
    "colab_type": "code",
    "id": "KpknmN4xNY6O"
   },
   "outputs": [],
   "source": [
    "import numpy as np\n",
    "\n",
    "X_train = np.zeros((scores_train[\"mid\"].max(), scores_train[\"uid\"].max()))\n",
    "for i, item in scores_train.iterrows():\n",
    "    X_train[item[\"mid\"] - 1, item[\"uid\"] - 1] = item[\"rating\"]"
   ]
  },
  {
   "cell_type": "code",
   "execution_count": 4,
   "metadata": {
    "ExecuteTime": {
     "end_time": "2019-03-13T05:11:20.232647Z",
     "start_time": "2019-03-13T05:11:20.220440Z"
    },
    "colab": {
     "base_uri": "https://localhost:8080/",
     "height": 136
    },
    "colab_type": "code",
    "id": "nXbospUyNl0w",
    "outputId": "e8e12b2b-61cd-4d04-9de8-a4dc34ce7ba5"
   },
   "outputs": [
    {
     "data": {
      "text/plain": [
       "array([[5., 4., 0., ..., 5., 0., 0.],\n",
       "       [3., 0., 0., ..., 0., 0., 5.],\n",
       "       [4., 0., 0., ..., 0., 0., 0.],\n",
       "       ...,\n",
       "       [0., 0., 0., ..., 0., 0., 0.],\n",
       "       [0., 0., 0., ..., 0., 0., 0.],\n",
       "       [0., 0., 0., ..., 0., 0., 0.]])"
      ]
     },
     "execution_count": 4,
     "metadata": {},
     "output_type": "execute_result"
    }
   ],
   "source": [
    "X_train"
   ]
  },
  {
   "cell_type": "code",
   "execution_count": 5,
   "metadata": {
    "ExecuteTime": {
     "end_time": "2019-03-13T05:11:28.848576Z",
     "start_time": "2019-03-13T05:11:23.449500Z"
    },
    "colab": {
     "base_uri": "https://localhost:8080/",
     "height": 51
    },
    "colab_type": "code",
    "id": "rN5MhnJgNwZd",
    "outputId": "894fc857-1902-4736-a3c9-de3ac41184de"
   },
   "outputs": [
    {
     "name": "stderr",
     "output_type": "stream",
     "text": [
      "/Users/01018534/.pyenv/versions/3.6.1/lib/python3.6/site-packages/sklearn/utils/validation.py:595: DataConversionWarning: Data with input dtype float64 was converted to bool by check_pairwise_arrays.\n",
      "  warnings.warn(msg, DataConversionWarning)\n"
     ]
    }
   ],
   "source": [
    "from sklearn.metrics.pairwise import pairwise_distances\n",
    "X_cosine_train = 1-pairwise_distances(X_train, metric=\"cosine\")\n",
    "X_jaccard_train = 1-pairwise_distances(X_train, metric=\"jaccard\")"
   ]
  },
  {
   "cell_type": "code",
   "execution_count": 6,
   "metadata": {
    "ExecuteTime": {
     "end_time": "2019-03-13T05:11:29.462583Z",
     "start_time": "2019-03-13T05:11:29.458880Z"
    },
    "colab": {},
    "colab_type": "code",
    "id": "gEcT8n9wQGk-"
   },
   "outputs": [],
   "source": [
    "# 対角成分を0にする\n",
    "np.fill_diagonal(X_cosine_train,0)\n",
    "np.fill_diagonal(X_jaccard_train,0)"
   ]
  },
  {
   "cell_type": "code",
   "execution_count": 7,
   "metadata": {
    "ExecuteTime": {
     "end_time": "2019-03-13T05:11:30.643334Z",
     "start_time": "2019-03-13T05:11:30.638716Z"
    },
    "colab": {
     "base_uri": "https://localhost:8080/",
     "height": 238
    },
    "colab_type": "code",
    "id": "xM0nt6fBNxCb",
    "outputId": "6d1b5a7f-8358-4509-9bb9-352c3524d44d"
   },
   "outputs": [
    {
     "data": {
      "text/plain": [
       "array([[0.        , 0.40295926, 0.33326137, ..., 0.        , 0.05080415,\n",
       "        0.05080415],\n",
       "       [0.40295926, 0.        , 0.2691851 , ..., 0.        , 0.08155909,\n",
       "        0.08155909],\n",
       "       [0.33326137, 0.2691851 , 0.        , ..., 0.        , 0.        ,\n",
       "        0.09901475],\n",
       "       ...,\n",
       "       [0.        , 0.        , 0.        , ..., 0.        , 0.        ,\n",
       "        0.        ],\n",
       "       [0.05080415, 0.08155909, 0.        , ..., 0.        , 0.        ,\n",
       "        0.        ],\n",
       "       [0.05080415, 0.08155909, 0.09901475, ..., 0.        , 0.        ,\n",
       "        0.        ]])"
      ]
     },
     "execution_count": 7,
     "metadata": {},
     "output_type": "execute_result"
    }
   ],
   "source": [
    "X_cosine_train"
   ]
  },
  {
   "cell_type": "code",
   "execution_count": 8,
   "metadata": {
    "ExecuteTime": {
     "end_time": "2019-03-13T05:11:36.076168Z",
     "start_time": "2019-03-13T05:11:36.072561Z"
    },
    "colab": {
     "base_uri": "https://localhost:8080/",
     "height": 34
    },
    "colab_type": "code",
    "id": "Wi9x8l8pRDL3",
    "outputId": "809a3ba0-3857-48a7-dc1d-043a17670aa3"
   },
   "outputs": [
    {
     "data": {
      "text/plain": [
       "(1682, 1682)"
      ]
     },
     "execution_count": 8,
     "metadata": {},
     "output_type": "execute_result"
    }
   ],
   "source": [
    "X_cosine_train.shape"
   ]
  },
  {
   "cell_type": "code",
   "execution_count": 9,
   "metadata": {
    "ExecuteTime": {
     "end_time": "2019-03-13T05:11:38.250621Z",
     "start_time": "2019-03-13T05:11:37.737528Z"
    },
    "colab": {},
    "colab_type": "code",
    "id": "bJXmWYSSRbTp"
   },
   "outputs": [],
   "source": [
    "# ユーザの閲覧履歴を取る\n",
    "\n",
    "user_item_dict_train = {}\n",
    "user_item_rating_dict_train = {}\n",
    "groups = scores_train.groupby('uid')\n",
    "for i in range(1,943): # ユーザ数\n",
    "    user_item_dict_train[i] = groups.get_group(i)['mid'].values\n",
    "    user_item_rating_dict_train[i] = groups.get_group(i)['rating'].values"
   ]
  },
  {
   "cell_type": "code",
   "execution_count": 10,
   "metadata": {
    "ExecuteTime": {
     "end_time": "2019-03-13T05:11:39.822537Z",
     "start_time": "2019-03-13T05:11:39.323043Z"
    },
    "colab": {},
    "colab_type": "code",
    "id": "S4INfOVPE_At"
   },
   "outputs": [],
   "source": [
    "# ユーザの閲覧履歴(test)\n",
    "\n",
    "user_item_dict_test = {}\n",
    "user_item_rating_dict_test = {}\n",
    "groups = scores_test.groupby('uid')\n",
    "for i in range(1,943): # ユーザ数\n",
    "    user_item_dict_test[i] = groups.get_group(i)['mid'].values\n",
    "    user_item_rating_dict_test[i] = groups.get_group(i)['rating'].values"
   ]
  },
  {
   "cell_type": "code",
   "execution_count": 11,
   "metadata": {
    "ExecuteTime": {
     "end_time": "2019-03-13T05:11:41.275360Z",
     "start_time": "2019-03-13T05:11:41.271428Z"
    },
    "colab": {
     "base_uri": "https://localhost:8080/",
     "height": 34
    },
    "colab_type": "code",
    "id": "Q4FVqoxNDxUi",
    "outputId": "4c1d09ca-e880-4193-a4a1-e15727f65be2"
   },
   "outputs": [
    {
     "data": {
      "text/plain": [
       "array([0., 0., 0., ..., 0., 0., 0.])"
      ]
     },
     "execution_count": 11,
     "metadata": {},
     "output_type": "execute_result"
    }
   ],
   "source": [
    "np.zeros(1682)"
   ]
  },
  {
   "cell_type": "code",
   "execution_count": 12,
   "metadata": {
    "ExecuteTime": {
     "end_time": "2019-03-13T05:11:51.141077Z",
     "start_time": "2019-03-13T05:11:50.575733Z"
    },
    "colab": {
     "base_uri": "https://localhost:8080/",
     "height": 34
    },
    "colab_type": "code",
    "id": "uoGxSoiXCbAQ",
    "outputId": "41df91b3-4f0d-413b-e043-4532762b3f7f"
   },
   "outputs": [
    {
     "name": "stderr",
     "output_type": "stream",
     "text": [
      "100%|██████████| 942/942 [00:00<00:00, 1834.78it/s]\n"
     ]
    }
   ],
   "source": [
    "# ユーザの閲覧履歴に合わせてsimilarityを足し合わせる(rating3以上)\n",
    "from tqdm import tqdm\n",
    "\n",
    "user_item_sim_dict_tanimoto = {}\n",
    "user_item_sim_dict_cosine = {}\n",
    "for i in tqdm(range(1,943)):\n",
    "    user_item_sim_dict_tanimoto[i] = np.zeros(X_jaccard_train.shape[1])\n",
    "    user_item_sim_dict_cosine[i] = np.zeros(X_cosine_train.shape[1])\n",
    "    item_history = user_item_dict_train[i]\n",
    "    rating_history = user_item_rating_dict_train[i]\n",
    "    for item,rating in zip(item_history,rating_history):\n",
    "        if rating >= 3:\n",
    "            user_item_sim_dict_tanimoto[i] += X_jaccard_train[item-1]\n",
    "            user_item_sim_dict_cosine[i] += X_cosine_train[item-1]"
   ]
  },
  {
   "cell_type": "code",
   "execution_count": 18,
   "metadata": {
    "ExecuteTime": {
     "end_time": "2019-03-13T05:12:37.810030Z",
     "start_time": "2019-03-13T05:12:37.802504Z"
    },
    "colab": {},
    "colab_type": "code",
    "id": "5MLyEz-0ElBz"
   },
   "outputs": [],
   "source": [
    "# ユーザごとにTOP10を出してRecall@10を計算する\n",
    "def precision_and_recall(ranked_list,ground_list):\n",
    "    hits = 0\n",
    "    for i in range(len(ranked_list)):\n",
    "        id = ranked_list[i]\n",
    "        if id in ground_list:\n",
    "            hits += 1\n",
    "    pre = hits/(1.0 * len(ranked_list))\n",
    "    rec = hits/(1.0 * len(ground_list))\n",
    "    return pre, rec"
   ]
  },
  {
   "cell_type": "markdown",
   "metadata": {
    "colab_type": "text",
    "id": "87pT8blYGblJ"
   },
   "source": [
    "## Tanimoto(Jaccard)\n",
    "@10"
   ]
  },
  {
   "cell_type": "code",
   "execution_count": 19,
   "metadata": {
    "ExecuteTime": {
     "end_time": "2019-03-13T05:12:40.115535Z",
     "start_time": "2019-03-13T05:12:40.007898Z"
    },
    "colab": {},
    "colab_type": "code",
    "id": "lz5IRvb5GCkR"
   },
   "outputs": [],
   "source": [
    "precision_list = []\n",
    "recall_list = []\n",
    "\n",
    "for i in range(1,943):\n",
    "    ranked_list = [v+1 for v in np.argsort(user_item_sim_dict_tanimoto[i])[::-1][:10]] # midは1から始まるため\n",
    "    ground_rating = user_item_rating_dict_test[i]\n",
    "    ground_list = user_item_dict_test[i]\n",
    "    ground_list_cut = [w for v,w in zip(ground_rating,ground_list) if v >= 3]\n",
    "    \n",
    "    pre, rec = precision_and_recall(ranked_list,ground_list_cut)\n",
    "    precision_list.append(pre)\n",
    "    recall_list.append(rec)"
   ]
  },
  {
   "cell_type": "code",
   "execution_count": 21,
   "metadata": {
    "ExecuteTime": {
     "end_time": "2019-03-13T05:12:54.377676Z",
     "start_time": "2019-03-13T05:12:54.373780Z"
    },
    "colab": {},
    "colab_type": "code",
    "id": "u_BA7x3-H2qS"
   },
   "outputs": [],
   "source": [
    "precision = sum(precision_list) / len(precision_list)\n",
    "recall = sum(recall_list) / len(recall_list)\n",
    "f1 = 2 * precision * recall / (precision + recall)"
   ]
  },
  {
   "cell_type": "code",
   "execution_count": 22,
   "metadata": {
    "ExecuteTime": {
     "end_time": "2019-03-13T05:12:56.054301Z",
     "start_time": "2019-03-13T05:12:56.050531Z"
    },
    "colab": {
     "base_uri": "https://localhost:8080/",
     "height": 68
    },
    "colab_type": "code",
    "id": "2UumFKC-H-kh",
    "outputId": "9ff2ca45-5c97-4bba-810d-fa86a115c166"
   },
   "outputs": [
    {
     "name": "stdout",
     "output_type": "stream",
     "text": [
      "precision: 0.11252653927813132\n",
      "recall: 0.13735424459946796\n",
      "f1: 0.12370697386247197\n"
     ]
    }
   ],
   "source": [
    "print(f'precision: {precision}')\n",
    "print(f'recall: {recall}')\n",
    "print(f'f1: {f1}')"
   ]
  },
  {
   "cell_type": "markdown",
   "metadata": {
    "colab_type": "text",
    "id": "EBvmyBojIt3x"
   },
   "source": [
    "## Cosine\n",
    "@10"
   ]
  },
  {
   "cell_type": "code",
   "execution_count": 23,
   "metadata": {
    "ExecuteTime": {
     "end_time": "2019-03-13T05:13:18.724626Z",
     "start_time": "2019-03-13T05:13:18.573303Z"
    },
    "colab": {},
    "colab_type": "code",
    "id": "mnFR31rgIzNP"
   },
   "outputs": [],
   "source": [
    "precision_list = []\n",
    "recall_list = []\n",
    "\n",
    "for i in range(1,943):\n",
    "    ranked_list = [v+1 for v in np.argsort(user_item_sim_dict_cosine[i])[::-1][:10]] # midは1から始まるため\n",
    "    ground_list = user_item_dict_test[i]\n",
    "    ground_rating = user_item_rating_dict_test[i]\n",
    "    ground_list_cut = [w for v,w in zip(ground_rating,ground_list) if v >= 3]\n",
    "    \n",
    "    pre, rec = precision_and_recall(ranked_list,ground_list)\n",
    "    precision_list.append(pre)\n",
    "    recall_list.append(rec)"
   ]
  },
  {
   "cell_type": "code",
   "execution_count": 24,
   "metadata": {
    "ExecuteTime": {
     "end_time": "2019-03-13T05:13:23.774872Z",
     "start_time": "2019-03-13T05:13:23.771184Z"
    },
    "colab": {},
    "colab_type": "code",
    "id": "MjpmUYN4I2wz"
   },
   "outputs": [],
   "source": [
    "precision = sum(precision_list) / len(precision_list)\n",
    "recall = sum(recall_list) / len(recall_list)\n",
    "f1 = 2 * precision * recall / (precision + recall)"
   ]
  },
  {
   "cell_type": "code",
   "execution_count": 25,
   "metadata": {
    "ExecuteTime": {
     "end_time": "2019-03-13T05:13:25.587059Z",
     "start_time": "2019-03-13T05:13:25.582387Z"
    },
    "colab": {
     "base_uri": "https://localhost:8080/",
     "height": 68
    },
    "colab_type": "code",
    "id": "VszON8o7I34C",
    "outputId": "02ec7a57-edcc-460b-ab6a-f1ec3c24db58"
   },
   "outputs": [
    {
     "name": "stdout",
     "output_type": "stream",
     "text": [
      "precision: 0.12537154989384255\n",
      "recall: 0.12537154989384255\n",
      "f1: 0.12537154989384255\n"
     ]
    }
   ],
   "source": [
    "print(f'precision: {precision}')\n",
    "print(f'recall: {recall}')\n",
    "print(f'f1: {f1}')"
   ]
  },
  {
   "cell_type": "markdown",
   "metadata": {
    "colab_type": "text",
    "id": "fgYmnCePJJeP"
   },
   "source": [
    "# Item2Vec"
   ]
  },
  {
   "cell_type": "code",
   "execution_count": 26,
   "metadata": {
    "ExecuteTime": {
     "end_time": "2019-03-13T05:13:29.197695Z",
     "start_time": "2019-03-13T05:13:29.103874Z"
    },
    "colab": {},
    "colab_type": "code",
    "id": "t22XUunRKKly"
   },
   "outputs": [],
   "source": [
    "train_values = []\n",
    "for key in range(1,943):\n",
    "    tmp =  [str(v) for v,w in zip(user_item_dict_train[key],user_item_rating_dict_train[key]) if w >= 3]\n",
    "    train_values.append(tmp)"
   ]
  },
  {
   "cell_type": "code",
   "execution_count": 27,
   "metadata": {
    "ExecuteTime": {
     "end_time": "2019-03-13T05:13:35.611211Z",
     "start_time": "2019-03-13T05:13:35.606159Z"
    },
    "colab": {},
    "colab_type": "code",
    "id": "AmGfD-qKJNsd"
   },
   "outputs": [],
   "source": [
    "import logging\n",
    "import os.path\n",
    "import sys\n",
    " \n",
    "logger = logging.getLogger()\n",
    "  \n",
    "logging.basicConfig(format=\"%(asctime)s : %(levelname)s : %(message)s\")\n",
    "logging.root.setLevel(level=logging.INFO)"
   ]
  },
  {
   "cell_type": "code",
   "execution_count": 28,
   "metadata": {
    "ExecuteTime": {
     "end_time": "2019-03-13T05:14:02.688624Z",
     "start_time": "2019-03-13T05:13:40.872952Z"
    },
    "colab": {
     "base_uri": "https://localhost:8080/",
     "height": 884
    },
    "colab_type": "code",
    "id": "RNfxt256Jdjz",
    "outputId": "3aff6ff6-24b4-4e37-ae1b-4432ace5138d",
    "scrolled": true
   },
   "outputs": [
    {
     "name": "stderr",
     "output_type": "stream",
     "text": [
      "2019-03-13 14:13:41,868 : INFO : 'pattern' package not found; tag filters are not available for English\n",
      "2019-03-13 14:13:41,895 : INFO : collecting all words and their counts\n",
      "2019-03-13 14:13:41,896 : INFO : PROGRESS: at sentence #0, processed 0 words, keeping 0 word types\n",
      "2019-03-13 14:13:41,908 : INFO : collected 1568 word types from a corpus of 74511 raw words and 942 sentences\n",
      "2019-03-13 14:13:41,909 : INFO : Loading a fresh vocabulary\n",
      "2019-03-13 14:13:41,913 : INFO : effective_min_count=5 retains 1182 unique words (75% of original 1568, drops 386)\n",
      "2019-03-13 14:13:41,916 : INFO : effective_min_count=5 leaves 73663 word corpus (98% of original 74511, drops 848)\n",
      "2019-03-13 14:13:41,921 : INFO : deleting the raw counts dictionary of 1568 items\n",
      "2019-03-13 14:13:41,922 : INFO : sample=0.001 downsamples 78 most-common words\n",
      "2019-03-13 14:13:41,922 : INFO : downsampling leaves estimated 70086 word corpus (95.1% of prior 73663)\n",
      "2019-03-13 14:13:41,927 : INFO : estimated required memory for 1182 words and 128 dimensions: 1801368 bytes\n",
      "2019-03-13 14:13:41,927 : INFO : resetting layer weights\n",
      "2019-03-13 14:13:41,946 : INFO : training model with 3 workers on 1182 vocabulary and 128 features, using sg=1 hs=0 sample=0.001 negative=5 window=100000\n",
      "2019-03-13 14:13:43,073 : INFO : EPOCH 1 - PROGRESS: at 15.29% examples, 8356 words/s, in_qsize 5, out_qsize 0\n",
      "2019-03-13 14:13:44,408 : INFO : EPOCH 1 - PROGRESS: at 52.44% examples, 15268 words/s, in_qsize 4, out_qsize 0\n",
      "2019-03-13 14:13:44,652 : INFO : worker thread finished; awaiting finish of 2 more threads\n",
      "2019-03-13 14:13:45,129 : INFO : worker thread finished; awaiting finish of 1 more threads\n",
      "2019-03-13 14:13:45,471 : INFO : EPOCH 1 - PROGRESS: at 100.00% examples, 19900 words/s, in_qsize 0, out_qsize 1\n",
      "2019-03-13 14:13:45,472 : INFO : worker thread finished; awaiting finish of 0 more threads\n",
      "2019-03-13 14:13:45,473 : INFO : EPOCH - 1 : training on 74511 raw words (70064 effective words) took 3.5s, 19889 effective words/s\n",
      "2019-03-13 14:13:46,646 : INFO : EPOCH 2 - PROGRESS: at 15.29% examples, 8001 words/s, in_qsize 5, out_qsize 0\n",
      "2019-03-13 14:13:48,884 : INFO : EPOCH 2 - PROGRESS: at 52.44% examples, 11004 words/s, in_qsize 4, out_qsize 0\n",
      "2019-03-13 14:13:49,148 : INFO : worker thread finished; awaiting finish of 2 more threads\n",
      "2019-03-13 14:13:49,602 : INFO : worker thread finished; awaiting finish of 1 more threads\n",
      "2019-03-13 14:13:50,040 : INFO : EPOCH 2 - PROGRESS: at 100.00% examples, 15340 words/s, in_qsize 0, out_qsize 1\n",
      "2019-03-13 14:13:50,041 : INFO : worker thread finished; awaiting finish of 0 more threads\n",
      "2019-03-13 14:13:50,042 : INFO : EPOCH - 2 : training on 74511 raw words (70028 effective words) took 4.6s, 15335 effective words/s\n",
      "2019-03-13 14:13:51,335 : INFO : EPOCH 3 - PROGRESS: at 15.29% examples, 7278 words/s, in_qsize 5, out_qsize 0\n",
      "2019-03-13 14:13:52,966 : INFO : EPOCH 3 - PROGRESS: at 52.44% examples, 12855 words/s, in_qsize 4, out_qsize 0\n",
      "2019-03-13 14:13:53,241 : INFO : worker thread finished; awaiting finish of 2 more threads\n",
      "2019-03-13 14:13:53,837 : INFO : worker thread finished; awaiting finish of 1 more threads\n",
      "2019-03-13 14:13:54,418 : INFO : EPOCH 3 - PROGRESS: at 100.00% examples, 16018 words/s, in_qsize 0, out_qsize 1\n",
      "2019-03-13 14:13:54,419 : INFO : worker thread finished; awaiting finish of 0 more threads\n",
      "2019-03-13 14:13:54,420 : INFO : EPOCH - 3 : training on 74511 raw words (70057 effective words) took 4.4s, 16010 effective words/s\n",
      "2019-03-13 14:13:55,778 : INFO : EPOCH 4 - PROGRESS: at 15.29% examples, 6963 words/s, in_qsize 5, out_qsize 0\n",
      "2019-03-13 14:13:57,408 : INFO : EPOCH 4 - PROGRESS: at 52.44% examples, 12603 words/s, in_qsize 4, out_qsize 0\n",
      "2019-03-13 14:13:57,649 : INFO : worker thread finished; awaiting finish of 2 more threads\n",
      "2019-03-13 14:13:58,175 : INFO : worker thread finished; awaiting finish of 1 more threads\n",
      "2019-03-13 14:13:58,595 : INFO : EPOCH 4 - PROGRESS: at 100.00% examples, 16813 words/s, in_qsize 0, out_qsize 1\n",
      "2019-03-13 14:13:58,595 : INFO : worker thread finished; awaiting finish of 0 more threads\n",
      "2019-03-13 14:13:58,596 : INFO : EPOCH - 4 : training on 74511 raw words (70082 effective words) took 4.2s, 16806 effective words/s\n",
      "2019-03-13 14:13:59,933 : INFO : EPOCH 5 - PROGRESS: at 15.29% examples, 7070 words/s, in_qsize 5, out_qsize 0\n",
      "2019-03-13 14:14:01,537 : INFO : EPOCH 5 - PROGRESS: at 52.44% examples, 12805 words/s, in_qsize 4, out_qsize 0\n",
      "2019-03-13 14:14:01,782 : INFO : worker thread finished; awaiting finish of 2 more threads\n",
      "2019-03-13 14:14:02,278 : INFO : worker thread finished; awaiting finish of 1 more threads\n",
      "2019-03-13 14:14:02,684 : INFO : EPOCH 5 - PROGRESS: at 100.00% examples, 17159 words/s, in_qsize 0, out_qsize 1\n",
      "2019-03-13 14:14:02,684 : INFO : worker thread finished; awaiting finish of 0 more threads\n",
      "2019-03-13 14:14:02,685 : INFO : EPOCH - 5 : training on 74511 raw words (70091 effective words) took 4.1s, 17153 effective words/s\n",
      "2019-03-13 14:14:02,686 : INFO : training on a 372555 raw words (350322 effective words) took 20.7s, 16892 effective words/s\n"
     ]
    }
   ],
   "source": [
    "from gensim.models import word2vec\n",
    "# word2vec\n",
    "#     sg: 1=skip-gram\n",
    "#     window: ウィンドウサイズ、全アイテムをコンテキストに含めたいのでとびきり大きな値\n",
    "#     hs: 0=negative sampling(negativeはdefault)\n",
    "model = word2vec.Word2Vec(train_values, sg=1, size=128, window=100000, hs=0,  seed=0)"
   ]
  },
  {
   "cell_type": "code",
   "execution_count": 29,
   "metadata": {
    "ExecuteTime": {
     "end_time": "2019-03-13T05:14:33.973223Z",
     "start_time": "2019-03-13T05:14:33.039579Z"
    },
    "colab": {},
    "colab_type": "code",
    "id": "E-YX3W7hOJMD"
   },
   "outputs": [],
   "source": [
    "user_vectors = {}\n",
    "\n",
    "for i in range(1,943):\n",
    "    tmp_vector = np.empty((2,128))\n",
    "    item_history = user_item_dict_train[i]\n",
    "    rating_history = user_item_rating_dict_train[i]\n",
    "    for item,rating in zip(item_history,rating_history):\n",
    "        try:\n",
    "            tmp_vector += model.wv[str(item)] * (rating/3)\n",
    "        except:\n",
    "            continue\n",
    "        \n",
    "    tmp_vector /= len(item_history)\n",
    "    user_vectors[i] = tmp_vector"
   ]
  },
  {
   "cell_type": "code",
   "execution_count": 30,
   "metadata": {
    "ExecuteTime": {
     "end_time": "2019-03-13T05:14:36.271152Z",
     "start_time": "2019-03-13T05:14:36.043756Z"
    },
    "colab": {
     "base_uri": "https://localhost:8080/",
     "height": 85
    },
    "colab_type": "code",
    "id": "bVi7mhMVO2Fj",
    "outputId": "727667f4-390b-4233-a629-f1f4cf7a43ce"
   },
   "outputs": [
    {
     "name": "stderr",
     "output_type": "stream",
     "text": [
      "/Users/01018534/.pyenv/versions/3.6.1/lib/python3.6/site-packages/ipykernel_launcher.py:5: DeprecationWarning: Call to deprecated `most_similar` (Method will be removed in 4.0.0, use self.wv.most_similar() instead).\n",
      "  \"\"\"\n",
      "2019-03-13 14:14:36,060 : INFO : precomputing L2-norms of word weight vectors\n",
      "/Users/01018534/.pyenv/versions/3.6.1/lib/python3.6/site-packages/gensim/matutils.py:737: FutureWarning: Conversion of the second argument of issubdtype from `int` to `np.signedinteger` is deprecated. In future, it will be treated as `np.int64 == np.dtype(int).type`.\n",
      "  if np.issubdtype(vec.dtype, np.int):\n"
     ]
    }
   ],
   "source": [
    "precision_list = []\n",
    "recall_list = []\n",
    "\n",
    "for i in range(1,943):\n",
    "    ranked_list = [int(v[0]) for v in model.most_similar(user_vectors[i], [], 10)]\n",
    "    ground_list = user_item_dict_test[i]\n",
    "    ground_rating = user_item_rating_dict_test[i]\n",
    "    ground_list_cut = [w for v,w in zip(ground_rating,ground_list) if v >= 3]\n",
    "    pre, rec = precision_and_recall(ranked_list,ground_list_cut)\n",
    "    precision_list.append(pre)\n",
    "    recall_list.append(rec)"
   ]
  },
  {
   "cell_type": "code",
   "execution_count": 32,
   "metadata": {
    "ExecuteTime": {
     "end_time": "2019-03-13T05:14:47.048619Z",
     "start_time": "2019-03-13T05:14:47.045255Z"
    },
    "colab": {},
    "colab_type": "code",
    "id": "XJH-qeIYPguG"
   },
   "outputs": [],
   "source": [
    "precision = sum(precision_list) / len(precision_list)\n",
    "recall = sum(recall_list) / len(recall_list)\n",
    "f1 = 2 * precision * recall / (precision + recall)"
   ]
  },
  {
   "cell_type": "code",
   "execution_count": 33,
   "metadata": {
    "ExecuteTime": {
     "end_time": "2019-03-13T05:14:48.333549Z",
     "start_time": "2019-03-13T05:14:48.329766Z"
    },
    "colab": {
     "base_uri": "https://localhost:8080/",
     "height": 68
    },
    "colab_type": "code",
    "id": "r9gw2P0qPcVA",
    "outputId": "4834d862-6232-4592-ed83-0b4067cf6b6b"
   },
   "outputs": [
    {
     "name": "stdout",
     "output_type": "stream",
     "text": [
      "precision: 0.07537154989384316\n",
      "recall: 0.09141686044552313\n",
      "f1: 0.08262241296249077\n"
     ]
    }
   ],
   "source": [
    "print(f'precision: {precision}')\n",
    "print(f'recall: {recall}')\n",
    "print(f'f1: {f1}')"
   ]
  },
  {
   "cell_type": "markdown",
   "metadata": {},
   "source": [
    "## xdeepdm\n",
    "@10"
   ]
  },
  {
   "cell_type": "code",
   "execution_count": 52,
   "metadata": {
    "ExecuteTime": {
     "end_time": "2019-03-13T05:33:37.415356Z",
     "start_time": "2019-03-13T05:33:37.411992Z"
    }
   },
   "outputs": [],
   "source": [
    "import tensorflow as tf\n",
    "import ctrNet\n",
    "from src import misc_utils as utils\n",
    "from scipy.sparse import lil_matrix"
   ]
  },
  {
   "cell_type": "code",
   "execution_count": 46,
   "metadata": {
    "ExecuteTime": {
     "end_time": "2019-03-13T05:32:03.277595Z",
     "start_time": "2019-03-13T05:32:03.254432Z"
    }
   },
   "outputs": [],
   "source": [
    "nbUsers = len(set(pd.concat([scores_train['uid'],scores_test['uid']])))\n",
    "nbMovies=len(set(pd.concat([scores_train['mid'],scores_test['mid']])))\n",
    "nbFeatures=nbUsers+nbMovies\n",
    "nbRatingsTrain=len(scores_train)\n",
    "nbRatingsTest=len(scores_test)"
   ]
  },
  {
   "cell_type": "code",
   "execution_count": 78,
   "metadata": {
    "ExecuteTime": {
     "end_time": "2019-03-13T05:48:11.239149Z",
     "start_time": "2019-03-13T05:48:11.217659Z"
    }
   },
   "outputs": [],
   "source": [
    "def loadDataset(df, nbUsers, lines, columns):\n",
    "    X = np.zeros((lines, columns))\n",
    "    Y = []\n",
    "    for index, row in df.iterrows():\n",
    "        userId = row['uid']\n",
    "        movieId = row['mid']\n",
    "        rating = row['rating']\n",
    "        X[index,int(userId)-1] = 1\n",
    "        X[index,int(nbUsers)+int(movieId)-1] = 1\n",
    "        if int(rating) >= 3:\n",
    "            Y.append(1)\n",
    "        else:\n",
    "            Y.append(0)\n",
    "            \n",
    "    Y=np.array(Y).astype('float32')\n",
    "    X = pd.DataFrame(X)\n",
    "    X.columns=['f'+str(i) for i in range(0, columns)]\n",
    "    return X, Y"
   ]
  },
  {
   "cell_type": "code",
   "execution_count": 96,
   "metadata": {
    "ExecuteTime": {
     "end_time": "2019-03-13T05:54:48.888849Z",
     "start_time": "2019-03-13T05:54:40.240491Z"
    }
   },
   "outputs": [],
   "source": [
    "X_train_xdeepfm, y_train_xdeepfm = loadDataset(scores_train, nbUsers,nbRatingsTrain, nbFeatures)\n",
    "X_test_xdeepfm, y_test_xdeepfm = loadDataset(scores_test, nbUsers, nbRatingsTrain, nbFeatures)"
   ]
  },
  {
   "cell_type": "code",
   "execution_count": 97,
   "metadata": {
    "ExecuteTime": {
     "end_time": "2019-03-13T05:54:59.241610Z",
     "start_time": "2019-03-13T05:54:56.162273Z"
    },
    "scrolled": true
   },
   "outputs": [],
   "source": [
    "from sklearn.model_selection import train_test_split\n",
    "X_train_xdeepfm, X_valid_xdeepfm, y_train_xdeepfm, y_valid_xdeepfm = train_test_split(X_train_xdeepfm, y_train_xdeepfm, test_size=0.3, random_state=42)"
   ]
  },
  {
   "cell_type": "code",
   "execution_count": 84,
   "metadata": {
    "ExecuteTime": {
     "end_time": "2019-03-13T05:50:33.264810Z",
     "start_time": "2019-03-13T05:50:33.239373Z"
    }
   },
   "outputs": [
    {
     "name": "stdout",
     "output_type": "stream",
     "text": [
      "  activation=['relu', 'relu', 'relu']\n",
      "  batch_norm_decay=0.9\n",
      "  batch_size=64\n",
      "  cross_activation=identity\n",
      "  cross_layer_sizes=[128, 128, 128]\n",
      "  epoch=1\n",
      "  feature_nums=2625\n",
      "  hash_ids=200000\n",
      "  hidden_size=[128, 128]\n",
      "  init_method=uniform\n",
      "  init_value=0.1\n",
      "  k=8\n",
      "  learning_rate=0.001\n",
      "  metric=auc\n",
      "  model=xdeepfm\n",
      "  norm=True\n",
      "  num_display_steps=1000\n",
      "  num_eval_steps=1000\n",
      "  optimizer=adam\n"
     ]
    }
   ],
   "source": [
    "hparam = tf.contrib.training.HParams(\n",
    "    model='xdeepfm',\n",
    "    norm=True,\n",
    "    batch_norm_decay=0.9,\n",
    "    hidden_size=[128, 128],\n",
    "    cross_layer_sizes=[128, 128, 128],\n",
    "    k=8,\n",
    "    hash_ids=int(2e5),\n",
    "    batch_size=64,\n",
    "    optimizer=\"adam\",\n",
    "    learning_rate=0.001,\n",
    "    num_display_steps=1000,\n",
    "    num_eval_steps=1000,\n",
    "    epoch=1,\n",
    "    metric='auc',\n",
    "    activation=['relu', 'relu', 'relu'],\n",
    "    cross_activation='identity',\n",
    "    init_method='uniform',\n",
    "    init_value=0.1,\n",
    "    feature_nums=len(features))\n",
    "utils.print_hparams(hparam)"
   ]
  },
  {
   "cell_type": "code",
   "execution_count": 85,
   "metadata": {
    "ExecuteTime": {
     "end_time": "2019-03-13T05:51:42.828361Z",
     "start_time": "2019-03-13T05:50:49.164230Z"
    },
    "scrolled": true
   },
   "outputs": [
    {
     "name": "stdout",
     "output_type": "stream",
     "text": [
      "# Trainable variables\n",
      "  emb_v1:0, (200000, 1), \n",
      "  emb_v2:0, (200000, 8), \n",
      "  Variable:0, (21000, 128), \n",
      "  norm_0/beta:0, (128,), \n",
      "  norm_0/gamma:0, (128,), \n",
      "  Variable_1:0, (128, 128), \n",
      "  norm_1/beta:0, (128,), \n",
      "  norm_1/gamma:0, (128,), \n",
      "  Variable_2:0, (128, 1), \n",
      "  exfm_part/f_0:0, (1, 6890625, 128), \n",
      "  exfm_part/f_1:0, (1, 168000, 128), \n",
      "  exfm_part/f_2:0, (1, 168000, 128), \n",
      "  exfm_part/w_nn_output:0, (256, 1), \n",
      "  exfm_part/b_nn_output:0, (1,), \n"
     ]
    }
   ],
   "source": [
    "os.environ[\"CUDA_DEVICE_ORDER\"]='PCI_BUS_ID'\n",
    "os.environ[\"CUDA_VISIBLE_DEVICES\"]='0'\n",
    "model=ctrNet.build_model(hparam)"
   ]
  },
  {
   "cell_type": "code",
   "execution_count": null,
   "metadata": {
    "ExecuteTime": {
     "start_time": "2019-03-13T05:55:04.944Z"
    }
   },
   "outputs": [],
   "source": [
    "model.train(train_data=(X_train_xdeepfm, y_train_xdeepfm),\\\n",
    "            dev_data=(X_valid_xdeepfm, y_valid_xdeepfm))"
   ]
  },
  {
   "cell_type": "code",
   "execution_count": null,
   "metadata": {},
   "outputs": [],
   "source": []
  }
 ],
 "metadata": {
  "colab": {
   "collapsed_sections": [],
   "name": "movielens-tanimoto_vs_item2vec.ipynb",
   "provenance": [],
   "version": "0.3.2"
  },
  "kernelspec": {
   "display_name": "Python 3",
   "language": "python",
   "name": "python3"
  },
  "language_info": {
   "codemirror_mode": {
    "name": "ipython",
    "version": 3
   },
   "file_extension": ".py",
   "mimetype": "text/x-python",
   "name": "python",
   "nbconvert_exporter": "python",
   "pygments_lexer": "ipython3",
   "version": "3.6.1"
  }
 },
 "nbformat": 4,
 "nbformat_minor": 1
}
